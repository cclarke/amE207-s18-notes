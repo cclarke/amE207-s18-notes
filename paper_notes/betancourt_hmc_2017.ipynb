{
 "cells": [
  {
   "cell_type": "markdown",
   "metadata": {},
   "source": [
    "# Notes on Betancourt, [\"A Conceptual Introduction to Hamiltonian Monte Carlo\"](https://arxiv.org/abs/1701.02434) (2017)\n",
    "\n",
    "## Cameron Clarke"
   ]
  },
  {
   "cell_type": "markdown",
   "metadata": {},
   "source": [
    "------"
   ]
  },
  {
   "cell_type": "markdown",
   "metadata": {},
   "source": [
    "* Betancourt argues that HMC has seen wide success because \"[i]nstead of realying on fragile heuristics, the method is built upon a rich theoretical foundation that makes it **uniquely suited** to the high-dimensional problems of applied interest\" (3)\n",
    "* Outline of the paper (3):\n",
    "    1. Intro to the **geometry of high-dimensional probability distributions**, and the **problems this gemoetry presents for efficient statistical computing**\n",
    "    2. Consider MCMC **from this geometric perspective**, and **motivate** a way of scaling the approach to high-dimensional problems\n",
    "        * This will take us to HMC\n",
    "    3. Discuss **efficient practical implementation** (tuning, diagnostics)"
   ]
  },
  {
   "cell_type": "markdown",
   "metadata": {},
   "source": [
    "-----"
   ]
  },
  {
   "cell_type": "markdown",
   "metadata": {},
   "source": [
    "## 1. Computing Expectations by Exploring Probability Distributions"
   ]
  },
  {
   "cell_type": "markdown",
   "metadata": {},
   "source": [
    "* Name of the game in statistical computing is to **evaluate expectations w.r.t. some distinguished *target* probability distribution**\n"
   ]
  },
  {
   "cell_type": "code",
   "execution_count": null,
   "metadata": {},
   "outputs": [],
   "source": []
  }
 ],
 "metadata": {
  "kernelspec": {
   "display_name": "Python 3",
   "language": "python",
   "name": "python3"
  },
  "language_info": {
   "codemirror_mode": {
    "name": "ipython",
    "version": 3
   },
   "file_extension": ".py",
   "mimetype": "text/x-python",
   "name": "python",
   "nbconvert_exporter": "python",
   "pygments_lexer": "ipython3",
   "version": "3.6.4"
  }
 },
 "nbformat": 4,
 "nbformat_minor": 2
}
